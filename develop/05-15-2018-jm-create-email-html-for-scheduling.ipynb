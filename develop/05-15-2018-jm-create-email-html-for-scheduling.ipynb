{
 "cells": [
  {
   "cell_type": "code",
   "execution_count": null,
   "metadata": {
    "collapsed": true
   },
   "outputs": [],
   "source": [
    "import pandas as pd\n",
    "import re\n",
    "import numpy as np\n",
    "np.set_printoptions(threshold=np.inf)"
   ]
  },
  {
   "cell_type": "code",
   "execution_count": null,
   "metadata": {
    "collapsed": true
   },
   "outputs": [],
   "source": [
    "txt = open('../results/stdout-05-15-2018-09-29-01-AM-theirs.txt')"
   ]
  },
  {
   "cell_type": "code",
   "execution_count": null,
   "metadata": {
    "collapsed": true
   },
   "outputs": [],
   "source": [
    "lines = txt.readlines()"
   ]
  },
  {
   "cell_type": "code",
   "execution_count": null,
   "metadata": {
    "collapsed": true
   },
   "outputs": [],
   "source": [
    "idx = []\n",
    "for line in lines[5:-1]:\n",
    "    idx.append(line.split(\"  \",1)[0])\n"
   ]
  },
  {
   "cell_type": "code",
   "execution_count": null,
   "metadata": {
    "collapsed": true
   },
   "outputs": [],
   "source": [
    "x = []\n",
    "for line in lines[4:-1]:\n",
    "    x.append(line.split(\"  \",1)[1].split(\" \"))\n"
   ]
  },
  {
   "cell_type": "code",
   "execution_count": null,
   "metadata": {
    "collapsed": true
   },
   "outputs": [],
   "source": [
    "y = pd.DataFrame(x);\n"
   ]
  },
  {
   "cell_type": "code",
   "execution_count": null,
   "metadata": {
    "collapsed": true
   },
   "outputs": [],
   "source": [
    "y.replace(['', None], np.nan, inplace=True)"
   ]
  },
  {
   "cell_type": "code",
   "execution_count": null,
   "metadata": {
    "collapsed": true
   },
   "outputs": [],
   "source": [
    "data = []\n",
    "\n",
    "for col, row in y.iterrows():\n",
    "    t = []\n",
    "    for _ in range(len(row)):\n",
    "        if not pd.isnull(row[_]):\n",
    "            \n",
    "            t.append(row[_])\n",
    "    data.append(t)\n",
    "\n"
   ]
  },
  {
   "cell_type": "code",
   "execution_count": null,
   "metadata": {
    "collapsed": true
   },
   "outputs": [],
   "source": [
    "header = []\n",
    "for line in lines[0:3]:\n",
    "    _ = line.split(\"  \",1)[0].replace('\\n','')\n",
    "    header.append(\"<b>\"+_+\"</b></br>\")"
   ]
  },
  {
   "cell_type": "code",
   "execution_count": null,
   "metadata": {
    "collapsed": true
   },
   "outputs": [],
   "source": [
    "header"
   ]
  },
  {
   "cell_type": "code",
   "execution_count": null,
   "metadata": {
    "collapsed": true
   },
   "outputs": [],
   "source": [
    "data"
   ]
  },
  {
   "cell_type": "code",
   "execution_count": null,
   "metadata": {
    "collapsed": true
   },
   "outputs": [],
   "source": [
    "html = pd.DataFrame(data[1:16], columns=data[0], index=idx).replace(r'\\n','', regex=True).to_html(justify='center').replace('\\n','')\n"
   ]
  },
  {
   "cell_type": "code",
   "execution_count": null,
   "metadata": {
    "collapsed": true
   },
   "outputs": [],
   "source": [
    "header = \"\".join(header)\n",
    "header + html"
   ]
  },
  {
   "cell_type": "code",
   "execution_count": null,
   "metadata": {
    "collapsed": true
   },
   "outputs": [],
   "source": []
  },
  {
   "cell_type": "code",
   "execution_count": null,
   "metadata": {
    "collapsed": true
   },
   "outputs": [],
   "source": []
  },
  {
   "cell_type": "code",
   "execution_count": null,
   "metadata": {},
   "outputs": [],
   "source": [
    "#All of it\n",
    "import pandas as pd\n",
    "import re\n",
    "import numpy as np\n",
    "np.set_printoptions(threshold=np.inf)\n",
    "\n",
    "txt = open('../results/stdout-05-15-2018-09-29-01-AM-theirs.txt')\n",
    "lines = txt.readlines()\n",
    "\n",
    "idx = []\n",
    "for line in lines[5:-1]:\n",
    "    idx.append(line.split(\"  \",1)[0])\n",
    "\n",
    "header = []\n",
    "for line in lines[0:3]:\n",
    "    _ = line.split(\"  \",1)[0].replace('\\n','')\n",
    "    header.append(\"<b>\"+_+\"</b></br>\")\n",
    "    \n",
    "x = []\n",
    "for line in lines[4:-1]:\n",
    "    x.append(line.split(\"  \",1)[1].split(\" \"))\n",
    "y = pd.DataFrame(x)\n",
    "y.replace(['', None], np.nan, inplace=True)\n",
    "\n",
    "data = []\n",
    "for col, row in y.iterrows():\n",
    "    t = []\n",
    "    for _ in range(len(row)):\n",
    "        if not pd.isnull(row[_]):\n",
    "            \n",
    "            t.append(row[_])\n",
    "    data.append(t)\n",
    "\n",
    "html = pd.DataFrame(data[1:16], columns=data[0], index=idx).replace(r'\\n','', regex=True).to_html(justify='center').replace('\\n','')\n",
    "header = \"\".join(header)\n",
    "header + html\n"
   ]
  },
  {
   "cell_type": "code",
   "execution_count": null,
   "metadata": {},
   "outputs": [],
   "source": [
    "cd .."
   ]
  },
  {
   "cell_type": "code",
   "execution_count": null,
   "metadata": {},
   "outputs": [],
   "source": [
    "ls"
   ]
  },
  {
   "cell_type": "code",
   "execution_count": null,
   "metadata": {},
   "outputs": [],
   "source": [
    "cd results/"
   ]
  },
  {
   "cell_type": "code",
   "execution_count": null,
   "metadata": {},
   "outputs": [],
   "source": [
    "ls"
   ]
  },
  {
   "cell_type": "code",
   "execution_count": null,
   "metadata": {},
   "outputs": [],
   "source": [
    "with open('./results/stdout-05-15-2018-20-05-57-PM-theirs.txt') as f:\n",
    "    lines = f.readlines()\n",
    "    print(lines)"
   ]
  },
  {
   "cell_type": "code",
   "execution_count": 10,
   "metadata": {},
   "outputs": [],
   "source": [
    "with open('../results/stdout-05-15-2018-20-20-24-PM-theirs.txt', 'r') as txt, open('../data/table.txt', 'w') as f:\n",
    "    lines = txt.readlines()\n",
    "    for line in lines:\n",
    "        f.write(line)"
   ]
  },
  {
   "cell_type": "code",
   "execution_count": 2,
   "metadata": {},
   "outputs": [
    {
     "name": "stdout",
     "output_type": "stream",
     "text": [
      "\u001b[0m\u001b[01;34m00_old_files\u001b[0m/\r\n",
      "05-15-2018-jm-create-email-html-for-scheduling.ipynb\r\n",
      "2018-04-11-jm-prepare-dummy-charts.ipynb\r\n",
      "2018-04-12-jm-fix-pyfolio-api-with-quandl.ipynb\r\n",
      "2018-04-13-jm-test-TradingAlgorithm-update-import.ipynb\r\n",
      "2018-05-15-jm-run-script-inside-notebook.ipynb\r\n"
     ]
    }
   ],
   "source": [
    "ls"
   ]
  },
  {
   "cell_type": "code",
   "execution_count": 7,
   "metadata": {},
   "outputs": [
    {
     "name": "stdout",
     "output_type": "stream",
     "text": [
      "/mnt/jonathanmaher/equity-research-python-demo\n"
     ]
    }
   ],
   "source": [
    "cd .. \n"
   ]
  },
  {
   "cell_type": "code",
   "execution_count": 8,
   "metadata": {},
   "outputs": [
    {
     "name": "stdout",
     "output_type": "stream",
     "text": [
      "/mnt/jonathanmaher/equity-research-python-demo/results\n"
     ]
    }
   ],
   "source": [
    "cd results/"
   ]
  },
  {
   "cell_type": "code",
   "execution_count": 9,
   "metadata": {},
   "outputs": [
    {
     "name": "stdout",
     "output_type": "stream",
     "text": [
      "stdout-05-15-2018-20-05-57-PM-theirs-theirs-deleted.txt  stdout.txt\r\n",
      "stdout-05-15-2018-20-20-24-PM-theirs.txt\r\n"
     ]
    }
   ],
   "source": [
    "ls"
   ]
  },
  {
   "cell_type": "code",
   "execution_count": 11,
   "metadata": {},
   "outputs": [
    {
     "data": {
      "text/plain": [
       "['Entire data start date: 2013-05-21\\n',\n",
       " 'Entire data end date: 2018-05-15\\n',\n",
       " 'In-sample months: 53\\n',\n",
       " 'Out-of-sample months: 5\\n',\n",
       " '                        All In-sample Out-of-sample\\n',\n",
       " 'Annual return         24.2%     24.8%         18.7%\\n',\n",
       " 'Cumulative returns   194.6%    170.8%          8.8%\\n',\n",
       " 'Annual volatility     23.0%     22.8%         24.9%\\n',\n",
       " 'Sharpe ratio           1.06      1.09          0.81\\n',\n",
       " 'Calmar ratio           0.75      0.77          1.39\\n',\n",
       " 'Stability              0.78      0.71          0.04\\n',\n",
       " 'Max drawdown         -32.1%    -32.1%        -13.4%\\n',\n",
       " 'Omega ratio            1.21      1.21          1.15\\n',\n",
       " 'Sortino ratio          1.58      1.62          1.24\\n',\n",
       " 'Skew                   0.04      0.01          0.25\\n',\n",
       " 'Kurtosis               3.71      4.07          1.15\\n',\n",
       " 'Tail ratio             1.01      1.02          0.90\\n',\n",
       " 'Daily value at risk   -2.8%     -2.8%         -3.1%\\n',\n",
       " 'Alpha                 -0.00      0.00         -0.00\\n',\n",
       " 'Beta                   1.00      1.00          1.00\\n']"
      ]
     },
     "execution_count": 11,
     "metadata": {},
     "output_type": "execute_result"
    }
   ],
   "source": [
    "open('../data/table.txt', 'r').readlines()"
   ]
  },
  {
   "cell_type": "code",
   "execution_count": null,
   "metadata": {
    "collapsed": true
   },
   "outputs": [],
   "source": []
  }
 ],
 "metadata": {
  "kernelspec": {
   "display_name": "Python 3",
   "language": "python",
   "name": "python3"
  },
  "language_info": {
   "codemirror_mode": {
    "name": "ipython",
    "version": 3
   },
   "file_extension": ".py",
   "mimetype": "text/x-python",
   "name": "python",
   "nbconvert_exporter": "python",
   "pygments_lexer": "ipython3",
   "version": "3.6.2"
  }
 },
 "nbformat": 4,
 "nbformat_minor": 2
}
