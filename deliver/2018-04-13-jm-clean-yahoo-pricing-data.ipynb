{
 "cells": [
  {
   "cell_type": "code",
   "execution_count": 24,
   "metadata": {},
   "outputs": [],
   "source": [
    "# New functions to grab monthly open price data from yahoo\n",
    "# Works as of April 2018\n",
    "# Cleaning function for use with pyfolio\n",
    "\n",
    "import pandas as pd\n",
    "import datetime\n",
    "import requests\n",
    "def get_yahoo_finance_data(symbol, start=None, end=None, interval='1d'):\n",
    "    end = pd.to_datetime(end) or datetime.datetime.utcnow()\n",
    "    start = pd.to_datetime(start) or end - datetime.timedelta(days=24)\n",
    "    url = 'https://query1.finance.yahoo.com/v8/finance/chart/{symbol}?symbol={symbol}&period1={start}&period2={end}&interval={interval}&includePrePost=true&events=div%7Csplit%7Cearn&corsDomain=finance.yahoo.com'.format(\n",
    "        symbol=symbol,\n",
    "        start=start.strftime('%s'),\n",
    "        end=end.strftime('%s'),\n",
    "        interval=interval\n",
    "    )\n",
    "    resp = requests.get(url)\n",
    "    resp.raise_for_status()\n",
    "    \n",
    "    rt = resp.json()\n",
    "    \n",
    "    return resp.json()\n",
    "\n",
    "def get_correct_data_format(resp_json):\n",
    "    symbol = rtjson['chart']['result'][0]['meta']['symbol']\n",
    "    timestamps = rtjson['chart']['result'][0]['timestamp']\n",
    "    open_price = rtjson['chart']['result'][0]['indicators']['quote'][0]['open']\n",
    "    close_price = rtjson['chart']['result'][0]['indicators']['quote'][0]['close']\n",
    "    \n",
    "    ts = pd.DataFrame({'open' : pd.Series(open_price, index=pd.to_datetime(timestamps, unit='s')),\n",
    "                       'close' : pd.Series(close_price, index=pd.to_datetime(timestamps, unit='s'))})\n",
    "    ts.name = symbol\n",
    "    ts.index = pd.to_datetime(ts.index, unit='s')\n",
    "    \n",
    "    return ts\n",
    "    \n",
    "def get_symbol_returns_custom(new_df, symbol):\n",
    "    rets = new_df[['close']]\n",
    "    rets = rets.shift(-1)\n",
    "    rets.iloc[-1]['close'] = new_df.tail(1)['open']\n",
    "    rets = rets.shift(1) / rets - 1\n",
    "    rets = rets.dropna()\n",
    "    rets['tick_datetime'] = pd.to_datetime(rets.index)   \n",
    "    rets.set_index('tick_datetime',inplace=True)\n",
    "    rets.index = rets.index.tz_localize(\"UTC\")\n",
    "    rets.columns = [new_df.name]\n",
    "    rets = pd.Series(rets[symbol])\n",
    "    return rets\n",
    "    "
   ]
  },
  {
   "cell_type": "code",
   "execution_count": 19,
   "metadata": {},
   "outputs": [],
   "source": [
    "rtjson = get_yahoo_finance_data('FB', start='2012-05-22', end='2014-05-16')"
   ]
  },
  {
   "cell_type": "code",
   "execution_count": 21,
   "metadata": {},
   "outputs": [],
   "source": [
    "its = get_correct_data_format(rtjson)"
   ]
  },
  {
   "cell_type": "code",
   "execution_count": 25,
   "metadata": {
    "scrolled": true
   },
   "outputs": [],
   "source": [
    "ts = get_symbol_returns_custom(its, 'FB')"
   ]
  },
  {
   "cell_type": "code",
   "execution_count": 26,
   "metadata": {},
   "outputs": [
    {
     "data": {
      "text/plain": [
       "tick_datetime\n",
       "2012-05-23 13:30:00+00:00   -0.031184\n",
       "2012-05-24 13:30:00+00:00    0.035099\n",
       "2012-05-25 13:30:00+00:00    0.106449\n",
       "2012-05-29 13:30:00+00:00    0.023058\n",
       "2012-05-30 13:30:00+00:00   -0.047635\n",
       "Name: FB, dtype: float64"
      ]
     },
     "execution_count": 26,
     "metadata": {},
     "output_type": "execute_result"
    }
   ],
   "source": [
    "ts.head()"
   ]
  },
  {
   "cell_type": "code",
   "execution_count": 27,
   "metadata": {},
   "outputs": [
    {
     "data": {
      "text/plain": [
       "[497,\n",
       " 'FB',\n",
       " DatetimeIndex(['2012-05-23 13:30:00+00:00', '2012-05-24 13:30:00+00:00',\n",
       "                '2012-05-25 13:30:00+00:00', '2012-05-29 13:30:00+00:00',\n",
       "                '2012-05-30 13:30:00+00:00', '2012-05-31 13:30:00+00:00',\n",
       "                '2012-06-01 13:30:00+00:00', '2012-06-04 13:30:00+00:00',\n",
       "                '2012-06-05 13:30:00+00:00', '2012-06-06 13:30:00+00:00',\n",
       "                ...\n",
       "                '2014-05-02 13:30:00+00:00', '2014-05-05 13:30:00+00:00',\n",
       "                '2014-05-06 13:30:00+00:00', '2014-05-07 13:30:00+00:00',\n",
       "                '2014-05-08 13:30:00+00:00', '2014-05-09 13:30:00+00:00',\n",
       "                '2014-05-12 13:30:00+00:00', '2014-05-13 13:30:00+00:00',\n",
       "                '2014-05-14 13:30:00+00:00', '2014-05-15 13:30:00+00:00'],\n",
       "               dtype='datetime64[ns, UTC]', name='tick_datetime', length=497, freq=None),\n",
       " dtype('float64')]"
      ]
     },
     "execution_count": 27,
     "metadata": {},
     "output_type": "execute_result"
    }
   ],
   "source": [
    "[ts.size, ts.name, ts.index, ts.dtype]"
   ]
  }
 ],
 "metadata": {
  "kernelspec": {
   "display_name": "Python 3",
   "language": "python",
   "name": "python3"
  },
  "language_info": {
   "codemirror_mode": {
    "name": "ipython",
    "version": 3
   },
   "file_extension": ".py",
   "mimetype": "text/x-python",
   "name": "python",
   "nbconvert_exporter": "python",
   "pygments_lexer": "ipython3",
   "version": "3.6.8"
  }
 },
 "nbformat": 4,
 "nbformat_minor": 2
}
